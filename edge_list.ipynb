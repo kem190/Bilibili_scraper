{
 "cells": [
  {
   "cell_type": "code",
   "execution_count": 88,
   "id": "f4441b41-61d9-4c71-9d5b-d1cfa6d80513",
   "metadata": {},
   "outputs": [],
   "source": [
    "from collections import Counter\n",
    "import pandas as pd"
   ]
  },
  {
   "cell_type": "code",
   "execution_count": 77,
   "id": "7d1f51b6-914a-411b-a31c-2af94ec01499",
   "metadata": {},
   "outputs": [
    {
     "name": "stdout",
     "output_type": "stream",
     "text": [
      "<class 'pandas.core.series.Series'>\n",
      "int64\n",
      "       Count                                      meta_url                                           url               meta_title meta_playbacks                          title     play\n",
      "17477      1  https://www.bilibili.com/video/BV1Um421V7t8/  https://www.bilibili.com/video/BV1Zb421H7QZ/  警惕！姜萍事件可能会被某些势力用来挑起人民矛盾            377  原神兽编辑群成员锐评！家有神兽三战系列微电影重制版第四集！    42000\n",
      "0          1  https://www.bilibili.com/video/BV1Rx4y147Sz/  https://www.bilibili.com/video/BV1Wm411y7tF/    阿里的预赛考93有多难？清华博士：我做不到        1560000     在爱因斯坦思考的湖边，聊聊科学、青年和我做科普的初心   235000\n",
      "1          1  https://www.bilibili.com/video/BV1Rx4y147Sz/  https://www.bilibili.com/video/BV12j411W7Lc/    阿里的预赛考93有多难？清华博士：我做不到        1560000      【漫士科普】别怕！逐帧带你看懂火柴人vs物理【上】  5178000\n",
      "2          1  https://www.bilibili.com/video/BV1Rx4y147Sz/  https://www.bilibili.com/video/BV1wu411T7dj/    阿里的预赛考93有多难？清华博士：我做不到        1560000     线性代数很难学？因为没有深刻理解这个概念【无痛线代】   556000\n",
      "3          1  https://www.bilibili.com/video/BV1Rx4y147Sz/  https://www.bilibili.com/video/BV1Kf421X7X9/    阿里的预赛考93有多难？清华博士：我做不到        1560000            【正经科普】为什么说数学思维就是搞抽象   442000\n",
      "...      ...                                           ...                                           ...                      ...            ...                            ...      ...\n",
      "10         1  https://www.bilibili.com/video/BV1Rx4y147Sz/  https://www.bilibili.com/video/BV1Yp4y1f7Wq/    阿里的预赛考93有多难？清华博士：我做不到        1560000    【漫士科普】40分钟硬核逐帧解析火柴人黑洞、相对论时空  1435000\n",
      "9          1  https://www.bilibili.com/video/BV1Rx4y147Sz/  https://www.bilibili.com/video/BV1Bm42137WU/    阿里的预赛考93有多难？清华博士：我做不到        1560000       【漫士科普】火柴人vs几何都讲了什么？带你看懂！   347000\n",
      "8          1  https://www.bilibili.com/video/BV1Rx4y147Sz/  https://www.bilibili.com/video/BV1si4y1p75k/    阿里的预赛考93有多难？清华博士：我做不到        1560000      全体自然数之和等于-1/12？真相远没有那么简单！  1864000\n",
      "7          1  https://www.bilibili.com/video/BV1Rx4y147Sz/  https://www.bilibili.com/video/BV1Zp4y17724/    阿里的预赛考93有多难？清华博士：我做不到        1560000     七夕不敢表白？清华博士用数学教你不怕被拒，不当舔狗！   140000\n",
      "6          1  https://www.bilibili.com/video/BV1Rx4y147Sz/  https://www.bilibili.com/video/BV1NC4y1J7UL/    阿里的预赛考93有多难？清华博士：我做不到        1560000         【无痛线代】什么？解题就是在线性空间里找基？   207000\n",
      "\n",
      "[17478 rows x 7 columns]\n"
     ]
    }
   ],
   "source": [
    "# import pandas as pd\n",
    "# from collections import Counter\n",
    "\n",
    "# pd.set_option('display.max_columns', None)  # Show all columns\n",
    "# pd.set_option('display.max_colwidth', None)  # Show full column width\n",
    "# pd.set_option('display.expand_frame_repr', False)  # Prevent truncation\n",
    "# pd.set_option('display.float_format', '{:.10f}'.format)\n",
    "# def convert_play_value(value):\n",
    "#     if '万' in value:\n",
    "#         value = value.replace('万', '')\n",
    "#         return str(int(float(value) * 10000))\n",
    "#     return value\n",
    "\n",
    "# df = pd.read_csv('C:\\\\Users\\\\57016\\\\PycharmProjects\\\\All_about_social_mentality_online\\\\pachong\\\\related_video_data_2_new.csv')\n",
    "\n",
    "# df['play'] = df['play'].apply(convert_play_value)\n",
    "# df['meta_playbacks'] = df['meta_playbacks'].apply(convert_play_value)\n",
    "\n",
    "# trim = df.filter(items=['meta_full_title', 'title'])\n",
    "# # Counting occurrences of each pair\n",
    "# pair_counts = Counter(zip(df['meta_url'], df['url']))\n",
    "\n",
    "# # Converting the counts to a DataFrame\n",
    "# edge_list_df = pd.DataFrame(pair_counts.items(), columns=['Pair', 'Count'])\n",
    "# edge_list_df[['meta_url', 'url']] = pd.DataFrame(edge_list_df['Pair'].tolist(), index=edge_list_df.index)\n",
    "\n",
    "# # Dropping the Pair column\n",
    "# edge_list_df = edge_list_df.drop(columns=['Pair'])\n",
    "\n",
    "# # Adding the descriptive columns\n",
    "# meta_titles = df.drop_duplicates(subset=['meta_url'])[['meta_url', 'meta_title', 'meta_playbacks']]\n",
    "# url_titles = df.drop_duplicates(subset=['url'])[['url', 'title', 'play']]\n",
    "\n",
    "# # Merging the titles and play data with the edge list\n",
    "# edge_list_with_titles = edge_list_df.merge(meta_titles, on='meta_url', how='left').merge(url_titles, on='url', how='left')\n",
    "\n",
    "# if edge_list_with_titles['Count'].dtype == 'object':\n",
    "#     edge_list_with_titles['Count'] = pd.to_numeric(edge_list_with_titles['Count'], errors='coerce')\n",
    "\n",
    "# print(type(edge_list_with_titles['Count']))\n",
    "# print(edge_list_with_titles['Count'].dtype)\n",
    "# non_numeric_counts = edge_list_with_titles['Count'].isna().sum()\n",
    "\n",
    "# sorted = edge_list_with_titles.sort_values(by = 'Count', ascending=False)\n",
    "\n",
    "# print(sorted)\n"
   ]
  },
  {
   "cell_type": "code",
   "execution_count": 2,
   "id": "35e825d2-6d37-4bc5-a814-750ff1654ed7",
   "metadata": {},
   "outputs": [
    {
     "name": "stdout",
     "output_type": "stream",
     "text": [
      "                   meta_full_title                                            title\n",
      "0            阿里的预赛考93有多难？清华博士：我做不到                       在爱因斯坦思考的湖边，聊聊科学、青年和我做科普的初心\n",
      "1            阿里的预赛考93有多难？清华博士：我做不到                        【漫士科普】别怕！逐帧带你看懂火柴人vs物理【上】\n",
      "2            阿里的预赛考93有多难？清华博士：我做不到                       线性代数很难学？因为没有深刻理解这个概念【无痛线代】\n",
      "3            阿里的预赛考93有多难？清华博士：我做不到                              【正经科普】为什么说数学思维就是搞抽象\n",
      "4            阿里的预赛考93有多难？清华博士：我做不到                    【无痛高数】所有数都是无理数？有关无限所有困惑的答案（上）\n",
      "5            阿里的预赛考93有多难？清华博士：我做不到                      【正确吃瓜】室温超导要来了？清华博士带你彻底明白超导！\n",
      "6            阿里的预赛考93有多难？清华博士：我做不到                           【无痛线代】什么？解题就是在线性空间里找基？\n",
      "7            阿里的预赛考93有多难？清华博士：我做不到                       七夕不敢表白？清华博士用数学教你不怕被拒，不当舔狗！\n",
      "8            阿里的预赛考93有多难？清华博士：我做不到                        全体自然数之和等于-1/12？真相远没有那么简单！\n",
      "9            阿里的预赛考93有多难？清华博士：我做不到                         【漫士科普】火柴人vs几何都讲了什么？带你看懂！\n",
      "10           阿里的预赛考93有多难？清华博士：我做不到                      【漫士科普】40分钟硬核逐帧解析火柴人黑洞、相对论时空\n",
      "11           阿里的预赛考93有多难？清华博士：我做不到                                看完它，再也没有数论压轴题能难倒你\n",
      "12           阿里的预赛考93有多难？清华博士：我做不到                       10万粉开箱有奖！姚班学长推荐书籍 手把手教你学数学\n",
      "13           阿里的预赛考93有多难？清华博士：我做不到                           【无痛线代】特征值究竟体现了矩阵的什么特征？\n",
      "14           阿里的预赛考93有多难？清华博士：我做不到                         【挑战毕导】停机悖论三句话就能证明不完备性定理？\n",
      "15           阿里的预赛考93有多难？清华博士：我做不到            牙没了，用药就能长回来，这项研究或许能造福许多人｜《环球科学》周报060期\n",
      "16           阿里的预赛考93有多难？清华博士：我做不到                            高等【树】学：树林里竟然藏着有理数的秘密？\n",
      "17           阿里的预赛考93有多难？清华博士：我做不到                         为什么这种数形结合永远学不好线性代数【无痛线代】\n",
      "18           阿里的预赛考93有多难？清华博士：我做不到                   【硬核科普】GPT等大模型是怎么工作的？为啥要预测下一个词？\n",
      "19           阿里的预赛考93有多难？清华博士：我做不到                              在普林斯顿散步，我偶遇了两位学术伟人！\n",
      "20  姜萍其实从一开始就承认了作弊的事实？姜萍事件新证据：她的神态  前几天录的视频。我知道关于她的争议还在继续。这里想聊的是，我们在围观她的时候，围观的是什么呢？\n",
      "21  姜萍其实从一开始就承认了作弊的事实？姜萍事件新证据：她的神态                                    编一条谣言新闻能有多简单？\n",
      "22  姜萍其实从一开始就承认了作弊的事实？姜萍事件新证据：她的神态                                【纪录片】毕业2024 04 期许\n",
      "23  姜萍其实从一开始就承认了作弊的事实？姜萍事件新证据：她的神态                          柳叶被控性骚扰全网曝光！剧版时光代理人第12集\n",
      "24  姜萍其实从一开始就承认了作弊的事实？姜萍事件新证据：她的神态                           柳叶被污蔑性骚扰信念崩塌，时光代理人第13集\n",
      "25  姜萍其实从一开始就承认了作弊的事实？姜萍事件新证据：她的神态                          女孩直播举报导师性骚扰，剧版时光代理人第15集\n",
      "26  姜萍其实从一开始就承认了作弊的事实？姜萍事件新证据：她的神态                               “你要是再不讲，我的分都快出来了！”\n",
      "27  姜萍其实从一开始就承认了作弊的事实？姜萍事件新证据：她的神态                               阿里巴巴达摩院，这些年它都做了什么？\n",
      "28  姜萍其实从一开始就承认了作弊的事实？姜萍事件新证据：她的神态                             打击非法加班，提高工人待遇，真的激进吗？\n",
      "29  姜萍其实从一开始就承认了作弊的事实？姜萍事件新证据：她的神态                女儿估分570查分见6打头，跳起尖叫10秒坐地大哭，看总分全家沸腾\n",
      "(17478, 2)\n"
     ]
    }
   ],
   "source": [
    "import pandas as pd\n",
    "from collections import Counter\n",
    "\n",
    "pd.set_option('display.max_columns', None)  # Show all columns\n",
    "pd.set_option('display.max_colwidth', None)  # Show full column width\n",
    "pd.set_option('display.expand_frame_repr', False)  # Prevent truncation\n",
    "pd.set_option('display.float_format', '{:.10f}'.format)\n",
    "def convert_play_value(value):\n",
    "    if '万' in value:\n",
    "        value = value.replace('万', '')\n",
    "        return str(int(float(value) * 10000))\n",
    "    return value\n",
    "\n",
    "df = pd.read_csv('C:\\\\Users\\\\57016\\\\PycharmProjects\\\\All_about_social_mentality_online\\\\pachong\\\\related_video_data_2_new.csv')\n",
    "\n",
    "df['play'] = df['play'].apply(convert_play_value)\n",
    "df['meta_playbacks'] = df['meta_playbacks'].apply(convert_play_value)\n",
    "\n",
    "trim = df.filter(items=['meta_full_title', 'title'])\n",
    "print(trim.head(30))\n",
    "print(trim.shape)"
   ]
  },
  {
   "cell_type": "code",
   "execution_count": 79,
   "id": "63a4fffd-5caf-4fdc-8d8b-eec3b176f8b3",
   "metadata": {},
   "outputs": [
    {
     "name": "stdout",
     "output_type": "stream",
     "text": [
      "(7314, 2)\n"
     ]
    }
   ],
   "source": [
    "trim = trim.drop_duplicates(subset=['title'])\n",
    "print(trim.shape)"
   ]
  },
  {
   "cell_type": "code",
   "execution_count": 90,
   "id": "a33b1796-7a10-4737-a1ba-14909d7631c1",
   "metadata": {},
   "outputs": [
    {
     "name": "stdout",
     "output_type": "stream",
     "text": [
      "          meta_full_title                                  title\n",
      "0   阿里的预赛考93有多难？清华博士：我做不到             在爱因斯坦思考的湖边，聊聊科学、青年和我做科普的初心\n",
      "1   阿里的预赛考93有多难？清华博士：我做不到              【漫士科普】别怕！逐帧带你看懂火柴人vs物理【上】\n",
      "2   阿里的预赛考93有多难？清华博士：我做不到             线性代数很难学？因为没有深刻理解这个概念【无痛线代】\n",
      "3   阿里的预赛考93有多难？清华博士：我做不到                    【正经科普】为什么说数学思维就是搞抽象\n",
      "4   阿里的预赛考93有多难？清华博士：我做不到          【无痛高数】所有数都是无理数？有关无限所有困惑的答案（上）\n",
      "5   阿里的预赛考93有多难？清华博士：我做不到            【正确吃瓜】室温超导要来了？清华博士带你彻底明白超导！\n",
      "6   阿里的预赛考93有多难？清华博士：我做不到                 【无痛线代】什么？解题就是在线性空间里找基？\n",
      "7   阿里的预赛考93有多难？清华博士：我做不到             七夕不敢表白？清华博士用数学教你不怕被拒，不当舔狗！\n",
      "8   阿里的预赛考93有多难？清华博士：我做不到              全体自然数之和等于-1/12？真相远没有那么简单！\n",
      "9   阿里的预赛考93有多难？清华博士：我做不到               【漫士科普】火柴人vs几何都讲了什么？带你看懂！\n",
      "10  阿里的预赛考93有多难？清华博士：我做不到            【漫士科普】40分钟硬核逐帧解析火柴人黑洞、相对论时空\n",
      "11  阿里的预赛考93有多难？清华博士：我做不到                      看完它，再也没有数论压轴题能难倒你\n",
      "12  阿里的预赛考93有多难？清华博士：我做不到             10万粉开箱有奖！姚班学长推荐书籍 手把手教你学数学\n",
      "13  阿里的预赛考93有多难？清华博士：我做不到                 【无痛线代】特征值究竟体现了矩阵的什么特征？\n",
      "14  阿里的预赛考93有多难？清华博士：我做不到               【挑战毕导】停机悖论三句话就能证明不完备性定理？\n",
      "15  阿里的预赛考93有多难？清华博士：我做不到  牙没了，用药就能长回来，这项研究或许能造福许多人｜《环球科学》周报060期\n",
      "16  阿里的预赛考93有多难？清华博士：我做不到                  高等【树】学：树林里竟然藏着有理数的秘密？\n",
      "17  阿里的预赛考93有多难？清华博士：我做不到               为什么这种数形结合永远学不好线性代数【无痛线代】\n",
      "18  阿里的预赛考93有多难？清华博士：我做不到         【硬核科普】GPT等大模型是怎么工作的？为啥要预测下一个词？\n",
      "19  阿里的预赛考93有多难？清华博士：我做不到                    在普林斯顿散步，我偶遇了两位学术伟人！\n"
     ]
    }
   ],
   "source": [
    "edges = df[['meta_full_title', 'title']].dropna()\n",
    "\n",
    "# Save the edge list to a CSV file\n",
    "edges.to_csv('edgelist.csv', index=False, header=['Source', 'Target'])\n",
    "\n",
    "print(edges.head(20))"
   ]
  },
  {
   "cell_type": "code",
   "execution_count": 91,
   "id": "d6f86a0f-ddbb-4122-b0a9-5dd35a164366",
   "metadata": {},
   "outputs": [
    {
     "name": "stdout",
     "output_type": "stream",
     "text": [
      "0.6783395485828564\n"
     ]
    }
   ],
   "source": [
    "import igraph as ig\n",
    "import leidenalg as la\n",
    "\n",
    "network_df = edges\n",
    "network_df = network_df.rename(columns={'meta_full_title' : 'Seed', 'title': 'Recommended'})\n",
    "network_df = network_df.groupby(['Seed', 'Recommended']).size().reset_index(name='Count')\n",
    "#network_df_unique.to_csv('Sicss_Test_Unique.csv', encoding='utf-8-sig', index=False)\n",
    "network_df.groupby(['Seed', 'Recommended']).size().reset_index(name='Count')\n",
    "\n",
    "# Convert the data frame into an edge list format\n",
    "edge_list = [(row['Seed'], row['Recommended'], row['Count']) for _, row in network_df.iterrows()]\n",
    "\n",
    "resolution = 1.0  # You can adjust this parameter\n",
    "niter = 10        # Number of iterations\n",
    "seed = 19         # Random seed for reproducibility\n",
    "\n",
    "# Convert the edge list into a network object\n",
    "g = ig.Graph.TupleList(edge_list, directed=False, edge_attrs=('weight',))\n",
    "node_names = list(set(network_df['Seed']).union(set(network_df['Recommended'])))\n",
    "g.vs['name'] = node_names\n",
    "# community detection using leiden\n",
    "partition = la.find_partition(g, la.RBConfigurationVertexPartition,\n",
    "                                                 resolution_parameter=resolution, n_iterations=niter,\n",
    "                                                 seed=seed)\n",
    "# calculate the modularity of the partition\n",
    "modularity = g.modularity(partition)\n",
    "\n",
    "print(modularity)"
   ]
  },
  {
   "cell_type": "code",
   "execution_count": 92,
   "id": "08360433-549f-47d5-b25c-2accc82bc896",
   "metadata": {},
   "outputs": [
    {
     "name": "stdout",
     "output_type": "stream",
     "text": [
      "Resolution: 0.5, Modularity: 0.6242197127452453\n",
      "Resolution: 1.0, Modularity: 0.6783395485828564\n",
      "Resolution: 1.5, Modularity: 0.6740800001758355\n",
      "Resolution: 2.0, Modularity: 0.6597007910922326\n",
      "Best Modularity: 0.6783395485828564\n"
     ]
    }
   ],
   "source": [
    "def detect_communities(graph, resolution, niter, seed):\n",
    "    partition = la.find_partition(graph, la.RBConfigurationVertexPartition,\n",
    "                                  resolution_parameter=resolution, n_iterations=niter, seed=seed)\n",
    "    modularity = graph.modularity(partition)\n",
    "    return partition, modularity\n",
    "\n",
    "# Parameters for community detection\n",
    "resolutions = [0.5, 1.0, 1.5, 2.0]  # Different resolution parameters to try\n",
    "niter = 10        # Number of iterations\n",
    "seed = 19         # Random seed for reproducibility\n",
    "\n",
    "# Perform community detection for different resolutions and choose the best partition\n",
    "best_partition = None\n",
    "best_modularity = -1\n",
    "\n",
    "for res in resolutions:\n",
    "    partition, modularity = detect_communities(g, res, niter, seed)\n",
    "    print(f\"Resolution: {res}, Modularity: {modularity}\")\n",
    "    if modularity > best_modularity:\n",
    "        best_modularity = modularity\n",
    "        best_partition = partition\n",
    "\n",
    "print(f\"Best Modularity: {best_modularity}\")"
   ]
  },
  {
   "cell_type": "code",
   "execution_count": 85,
   "id": "64ced9c5-34fb-4886-be52-0049339c4b4d",
   "metadata": {},
   "outputs": [
    {
     "name": "stdout",
     "output_type": "stream",
     "text": [
      "                               Name  Centrality  Community\n",
      "1229  国家电力高官成间谍，造成哪些损失？牵出哪些高官？结局愤慨！         153          2\n",
      "2667     【74分钟】白玉兰奖：给观众点小圈子评奖的离谱震撼！         136          3\n",
      "1235     农夫山泉背后资本是谁？竟然悄悄控制着整个世界的资本！          94          2\n",
      "1226               姜萍妈妈回应女儿姜萍成绩造假事件          86          2\n",
      "4         阿朵方锦龙神仙联动？！破圈同台！【高山流水觅知音】          84          1\n"
     ]
    }
   ],
   "source": [
    "# calculate the degree centrality of each node in each community\n",
    "\n",
    "centrality = []\n",
    "Density = []\n",
    "community = []\n",
    "name = []\n",
    "for i, community_nodes in enumerate(best_partition):\n",
    "    community_id = i + 1  # the ith community\n",
    "    subgraph = g.subgraph(community_nodes)  # create a subgraph for the ith community\n",
    "    for node in subgraph.vs:\n",
    "        node_name = node['name']\n",
    "        node_centrality = subgraph.degree(node.index, mode='all')\n",
    "        name.append(node_name)\n",
    "        centrality.append(node_centrality)\n",
    "        community.append(community_id)\n",
    "\n",
    "# create a dataframe with the results\n",
    "df_weighted = pd.DataFrame({'Name': name, 'Centrality': centrality, 'Community': community})\n",
    "df_weighted = df_weighted.sort_values(by='Centrality', ascending=False)\n",
    "print(df_weighted.head())\n",
    "df_weighted.to_csv('weighted_edgelist.csv')"
   ]
  },
  {
   "cell_type": "code",
   "execution_count": 87,
   "id": "d9454f9b-9fde-4ee8-a46c-463be7733b81",
   "metadata": {},
   "outputs": [
    {
     "name": "stdout",
     "output_type": "stream",
     "text": [
      "                                                                              Name  Centrality  Community  node_id\n",
      "1223                                                                 和丁真一起学习强国！#丁真          15          2        0\n",
      "2983                                                             恶人还需恶人磨，查理斯反向打服康姆           3          4        1\n",
      "1224                                                           在普林斯顿散步，我偶遇了两位学术伟人！          10          2        2\n",
      "1225                              【chalice】回忆老龟对战iG，为什么不banTK，承认自己的过错！敌法师那把是iG太憋了！          15          2        3\n",
      "1226                                                              姜萍妈妈回应女儿姜萍成绩造假事件          86          2        4\n",
      "...                                                                            ...         ...        ...      ...\n",
      "2978           根据闻檀小说《首辅养成手册》改编，40集古装言情剧《锦绣安宁》首发预告，腾讯独播！领衔主演：此沙、张瑶、芦芳生、赵子琪、戴娇倩、吴宇恒           1          3     8096\n",
      "2979                                          【柯洁】牢柯嗯玩金铲铲S6，疯狂抽象疑似被带带大师兄gank，疯狂破防。           1          3     8097\n",
      "2980                                                   这小伙撩妹也太牛了吧！只要脸皮厚，女神也能轻松追到手！           1          3     8098\n",
      "2981  裴姐这断崖停不下来！点赞更是大倍杀！JOY往后甩开坐稳第二！中间差距拉大！全体直拍总体播放更高了！但能多冲就冲冲冲啊！牦值得更高！Red Velvet❤           1          3     8099\n",
      "2982                                                                             2           1          3     8100\n",
      "\n",
      "[8101 rows x 4 columns]\n",
      "Modularity: 0.6783395485828564\n"
     ]
    }
   ],
   "source": [
    "import pandas as pd\n",
    "import igraph as ig\n",
    "import leidenalg as la\n",
    "import re\n",
    "\n",
    "\n",
    "\n",
    "# Sanitize node names to remove forbidden control characters\n",
    "def sanitize_name(name):\n",
    "    return re.sub(r'[\\x00-\\x1f\\x7f]', '', name)\n",
    "\n",
    "network_df['Seed'] = network_df['Seed'].apply(sanitize_name)\n",
    "network_df['Recommended'] = network_df['Recommended'].apply(sanitize_name)\n",
    "\n",
    "# Convert the data frame into an edge list format\n",
    "edge_list = [(row['Seed'], row['Recommended'], row['Count']) for _, row in network_df.iterrows()]\n",
    "\n",
    "# Create the graph from the edge list\n",
    "g = ig.Graph.TupleList(edge_list, directed=False, edge_attrs=['weight'])\n",
    "\n",
    "# Ensure the node names are set correctly\n",
    "node_names = list(set(network_df['Seed']).union(set(network_df['Recommended'])))\n",
    "g.vs['name'] = node_names\n",
    "\n",
    "# Define the parameters for community detection\n",
    "resolution = 1.0  # You can adjust this parameter\n",
    "niter = 10        # Number of iterations\n",
    "seed = 19         # Random seed for reproducibility\n",
    "\n",
    "# Perform community detection using the Leiden algorithm\n",
    "partition = la.find_partition(g, la.RBConfigurationVertexPartition,\n",
    "                              resolution_parameter=resolution, n_iterations=niter, seed=seed)\n",
    "\n",
    "# Calculate the modularity of the partition\n",
    "modularity = g.modularity(partition)\n",
    "\n",
    "# Initialize lists to store the results\n",
    "centrality = []\n",
    "community = []\n",
    "name = []\n",
    "\n",
    "# Iterate over each community and calculate centrality for each node\n",
    "for i, community_nodes in enumerate(partition):\n",
    "    community_id = i + 1  # the ith community\n",
    "    subgraph = g.subgraph(community_nodes)  # create a subgraph for the ith community\n",
    "    for node in subgraph.vs:\n",
    "        node_name = node['name']\n",
    "        node_centrality = subgraph.degree(node.index, mode='all')\n",
    "        name.append(node_name)\n",
    "        centrality.append(node_centrality)\n",
    "        community.append(community_id)\n",
    "\n",
    "# Create a DataFrame with the results\n",
    "df_weighted = pd.DataFrame({'Name': name, 'Centrality': centrality, 'Community': community})\n",
    "\n",
    "# Map node IDs directly from the graph\n",
    "node_id_map = {v['name']: v.index for v in g.vs}\n",
    "df_weighted['node_id'] = df_weighted['Name'].map(node_id_map)\n",
    "\n",
    "# Sort the DataFrame by node_id\n",
    "df_sorted = df_weighted.sort_values(by='node_id', ascending=True)\n",
    "\n",
    "# Display the sorted DataFrame\n",
    "print(df_sorted)\n",
    "\n",
    "# Save the DataFrame to a CSV file\n",
    "df_sorted.to_csv('weighted_edgelist.csv', index=False)\n",
    "\n",
    "# Assign the attributes to the graph nodes\n",
    "g.vs['Community'] = list(df_sorted['Community'])\n",
    "g.vs['Label'] = list(df_sorted['Name'])\n",
    "g.vs['Centrality'] = list(df_sorted['Centrality'])\n",
    "\n",
    "# Save the graph to a GraphML file\n",
    "g.write_graphml('paper1_graph.graphml')\n",
    "\n",
    "print(\"Modularity:\", modularity)\n"
   ]
  },
  {
   "cell_type": "code",
   "execution_count": 4,
   "id": "a8994bf9-afd0-4dff-90ed-5423a0459127",
   "metadata": {},
   "outputs": [
    {
     "name": "stdout",
     "output_type": "stream",
     "text": [
      "                                       Name  Centrality  Community  node_id\n",
      "5577                      抱歉，内娱第一「名嘴」，已经消失了           1        124     5577\n",
      "5576                  2024甲卷高考663，选择复读，逐梦北大           1        124     5576\n",
      "3404  长视频支持姜萍获阿里全球数学竞赛预赛第12名反对39名决赛选手要求彻查造假           1        123     3404\n",
      "3405       【龟视界】老龟打IG队内语音流出？查理斯力排众议选敌法（整活向）           1        123     3405\n",
      "1807                       这种学生可能只有10%，非常厉害           1        122     1807\n",
      "...                                     ...         ...        ...      ...\n",
      "3522         “笑死，还以为他们退圈了…原来不是老头帅了，是帅哥老了！！”           1          1     3522\n",
      "3521          「mrjasonowilson」孩子被霸凌了，应该这样教育           1          1     3521\n",
      "3520                          女生宿舍VS男生宿舍的关系           1          1     3520\n",
      "65                               我支持姜萍，不服来辩           5          1       65\n",
      "97                     【初中数学】2024中考数学压轴：台湾省          59          1       97\n",
      "\n",
      "[8101 rows x 4 columns]\n"
     ]
    }
   ],
   "source": [
    "\n",
    "df_sorted = df_sorted.sort_values(by='Community', ascending=False)\n",
    "\n",
    "print(df_sorted)\n"
   ]
  },
  {
   "cell_type": "code",
   "execution_count": 12,
   "id": "9bfba30f-ee50-47df-8d8c-e9b8b7c9433e",
   "metadata": {},
   "outputs": [
    {
     "name": "stdout",
     "output_type": "stream",
     "text": [
      "                                                                 title                   oid   author  play        username sex location                                                                                                                                                                                                                                                                                 text  likes    time  Centrality  community  node_id\n",
      "0                                                阿里的预赛考93有多难？清华博士：我做不到 1005894049.0000000000    漫士沉思录  156万         clem就是我   男       北京  拥有这样的天赋可太难了，高中的时候我也是数学满分如喝水吃饭，还偶尔会是全年级唯一150/高分这种情况，竞赛也水了省二，高考数学也差点满分，一度觉得自己数学是很不错的。但是进大学还是被高数线代狠狠碾压，天天刷题只能勉强优秀，身边有同学天天打王者，8点的考试，考前通宵线玩到4点，第二天考满分。成为艺术品其实太奢求了，真正拥有天赋的人本就是极少数，甚至我们日常生活都碰不到，而能找到自己擅长的领域，到底需要多少运气和试错成本呢，这可能不是普通家庭和普通气运的人妄求能达到的。而在事实上意识到这一切后，我真心觉得能拥有平淡且有稍微一些意义的人生就很珍贵了。   2893  15天前发布           2          3       44\n",
      "1                                                阿里的预赛考93有多难？清华博士：我做不到 1005894049.0000000000    漫士沉思录  156万            明净丹堂  保密       甘肃                                                                                                                                                                                                                                                我做这几道题的步骤: 1.写解 2.嘴角勾起自嘲的弧度 3.写下一道题的解   3190  15天前发布           2          3       44\n",
      "2                                                阿里的预赛考93有多难？清华博士：我做不到 1005894049.0000000000    漫士沉思录  156万           开心的王王   男       重庆                                                                                                                                       她在中专挺好的，要是在普高的话，浪费时间去学其他科目就是得不偿失。在中专既可以学习数学，又刚好遇到伯乐，还可以学习服装设计，这样数学的纯理性逻辑和手工设计的运用实践相结合，是非常好的。中考分流对于大部分普通人是好的，至于天才，他们会自己找到出路，就像夜空中的星星自会熠熠生辉，不必担心   1572  15天前发布           2          3       44\n",
      "3                                                阿里的预赛考93有多难？清华博士：我做不到 1005894049.0000000000    漫士沉思录  156万          阿星吧123  保密       北京                                                                                                                                                                                                                                                                  也许她眼中的衣服裁剪是非欧几何的应用题   6838  16天前发布           2          3       44\n",
      "4                                                阿里的预赛考93有多难？清华博士：我做不到 1005894049.0000000000    漫士沉思录  156万          安德烈_韦伊   男       北京                                                     在有些地方竟然看到有些人说“预赛看不出什么，大佬都在放水，决赛名次才能看出水平”这种言论。\\n\\n其实稍微想想就能明白姜萍的天赋有多强。预赛前200大约是清北较强的本科生水平，这应该是常识了，假如这200人里有10%认真考了初赛，那这第12名就能说明人家17岁能达到清北的中等偏上水平，这简直离谱。\\n\\n另外，姜萍决赛大概率是拿不到什么好成绩的，但这并不说明人家不强，即使是17岁的韦神到这决赛也拿不到多高的名次。到时候，姜萍在网络上大概要被骂了   5839  16天前发布           2          3       44\n",
      "...                                                                ...                   ...      ...   ...             ...  ..      ...                                                                                                                                                                                                                                                                                  ...    ...     ...         ...        ...      ...\n",
      "60381  深度剖析赵B老师，为何悬赏500万和姜萍对赌，看完一定有所收获～#姜萍#姜萍参加决赛 ＃赵斌#姜萍事件继续发酵#姜萍成绩引争议 1455853950.0000000000  王苹果是自然卷  3422             就是诚  保密       重庆                                                                                                                                                                                                                                                                                   别删      1   8天前发布           1          7     2642\n",
      "60382  深度剖析赵B老师，为何悬赏500万和姜萍对赌，看完一定有所收获～#姜萍#姜萍参加决赛 ＃赵斌#姜萍事件继续发酵#姜萍成绩引争议 1455853950.0000000000  王苹果是自然卷  3422             谢之盟   男       河南                                                                                                                                                                                                                                                                                    懂      2   9天前发布           1          7     2642\n",
      "60383  深度剖析赵B老师，为何悬赏500万和姜萍对赌，看完一定有所收获～#姜萍#姜萍参加决赛 ＃赵斌#姜萍事件继续发酵#姜萍成绩引争议 1455853950.0000000000  王苹果是自然卷  3422  Bili_650028277  保密       江苏                                                                                                                                                                                                                                                                                    6      1   9天前发布           1          7     2642\n",
      "60384                                          警惕！姜萍事件可能会被某些势力用来挑起人民矛盾 1605814148.0000000000    儒子叠加态   377            洛伦大叔  保密       陕西                                                                                                                                                                                                                    阿里僭越不是一次两次了，马云之前吹嘘什么人民企业家，去耶路撒冷哭墙，支付宝挑衅银行，这次想用这个来撬动最公平的录取制度真的是谋逆！      0   4天前发布          14          5     5518\n",
      "60385                                          警惕！姜萍事件可能会被某些势力用来挑起人民矛盾 1605814148.0000000000    儒子叠加态   377           爱吃娴的菜   男       广东                                                                                                                                                                                                                                                         解决争议最好的方法就是阿里官方出来回应，而不是特么的装死      4   5天前发布          14          5     5518\n",
      "\n",
      "[60386 rows x 13 columns]\n",
      "0\n"
     ]
    }
   ],
   "source": [
    "df_comments = pd.read_csv('C:\\\\Users\\\\57016\\\\PycharmProjects\\\\All_about_social_mentality_online\\\\pachong\\\\comments_2.csv')\n",
    "df_sorted = pd.read_csv('C:\\\\Users\\\\57016\\\\PycharmProjects\\\\All_about_social_mentality_online\\\\weighted_edgelist.csv')\n",
    "df_sorted.rename(columns={'Name': 'title', 'Community': 'community'}, inplace=True)\n",
    "\n",
    "comments_community = pd.merge(df_comments, df_sorted, on='title', how='left')\n",
    "print(comments_community)\n",
    "\n",
    "nan_age = comments_community['community'].isna().sum()\n",
    "print(nan_age)\n",
    "\n",
    "comments_community.to_csv('comments_community.csv', index=False)"
   ]
  },
  {
   "cell_type": "code",
   "execution_count": null,
   "id": "94714890-840e-463c-8de5-e21ebdbc0341",
   "metadata": {},
   "outputs": [],
   "source": [
    "df_comments = pd.read_csv('C:\\\\Users\\\\57016\\\\PycharmProjects\\\\All_about_social_mentality_online\\\\pachong\\\\comments_2.csv')\n"
   ]
  }
 ],
 "metadata": {
  "kernelspec": {
   "display_name": "Python 3 (ipykernel)",
   "language": "python",
   "name": "python3"
  },
  "language_info": {
   "codemirror_mode": {
    "name": "ipython",
    "version": 3
   },
   "file_extension": ".py",
   "mimetype": "text/x-python",
   "name": "python",
   "nbconvert_exporter": "python",
   "pygments_lexer": "ipython3",
   "version": "3.12.4"
  }
 },
 "nbformat": 4,
 "nbformat_minor": 5
}
